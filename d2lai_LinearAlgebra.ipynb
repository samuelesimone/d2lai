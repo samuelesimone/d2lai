{
  "nbformat": 4,
  "nbformat_minor": 0,
  "metadata": {
    "colab": {
      "provenance": []
    },
    "kernelspec": {
      "name": "python3",
      "display_name": "Python 3"
    },
    "language_info": {
      "name": "python"
    }
  },
  "cells": [
    {
      "cell_type": "code",
      "execution_count": 1,
      "metadata": {
        "id": "ZSg5ymwglYYU"
      },
      "outputs": [],
      "source": [
        "import torch"
      ]
    },
    {
      "cell_type": "code",
      "source": [
        "# Data una matrice è possibile fare la trasposta con il metodo .T\n",
        "A = torch.arange(6).reshape((3,2))\n",
        "A"
      ],
      "metadata": {
        "colab": {
          "base_uri": "https://localhost:8080/"
        },
        "id": "AP1a2UcSlc9E",
        "outputId": "c0ce26bd-b684-460c-9f96-0fd669457f42"
      },
      "execution_count": 2,
      "outputs": [
        {
          "output_type": "execute_result",
          "data": {
            "text/plain": [
              "tensor([[0, 1],\n",
              "        [2, 3],\n",
              "        [4, 5]])"
            ]
          },
          "metadata": {},
          "execution_count": 2
        }
      ]
    },
    {
      "cell_type": "code",
      "source": [
        "A.T"
      ],
      "metadata": {
        "colab": {
          "base_uri": "https://localhost:8080/"
        },
        "id": "bEGRYe1iltBC",
        "outputId": "364e2cee-c15f-441c-a0af-f9da4cd05355"
      },
      "execution_count": 3,
      "outputs": [
        {
          "output_type": "execute_result",
          "data": {
            "text/plain": [
              "tensor([[0, 2, 4],\n",
              "        [1, 3, 5]])"
            ]
          },
          "metadata": {},
          "execution_count": 3
        }
      ]
    },
    {
      "cell_type": "code",
      "source": [
        "# Matrice simmetrica dunque A == A.T"
      ],
      "metadata": {
        "id": "GU_O1y3ql4hR"
      },
      "execution_count": 4,
      "outputs": []
    },
    {
      "cell_type": "code",
      "source": [
        "A = torch.tensor([[1, 2, 3], [2, 0, 4], [3, 4, 5]])\n",
        "A"
      ],
      "metadata": {
        "colab": {
          "base_uri": "https://localhost:8080/"
        },
        "id": "Fyg8-fOBluvN",
        "outputId": "063112cd-cadc-4d5d-f047-d29197b647a4"
      },
      "execution_count": 5,
      "outputs": [
        {
          "output_type": "execute_result",
          "data": {
            "text/plain": [
              "tensor([[1, 2, 3],\n",
              "        [2, 0, 4],\n",
              "        [3, 4, 5]])"
            ]
          },
          "metadata": {},
          "execution_count": 5
        }
      ]
    },
    {
      "cell_type": "code",
      "source": [
        "A.T"
      ],
      "metadata": {
        "colab": {
          "base_uri": "https://localhost:8080/"
        },
        "id": "Q-Uutndal20q",
        "outputId": "f17d365d-288a-42c3-ed55-78ea2ffcbb49"
      },
      "execution_count": 6,
      "outputs": [
        {
          "output_type": "execute_result",
          "data": {
            "text/plain": [
              "tensor([[1, 2, 3],\n",
              "        [2, 0, 4],\n",
              "        [3, 4, 5]])"
            ]
          },
          "metadata": {},
          "execution_count": 6
        }
      ]
    },
    {
      "cell_type": "code",
      "source": [
        "A == A.T"
      ],
      "metadata": {
        "colab": {
          "base_uri": "https://localhost:8080/"
        },
        "id": "VpypdHGpl7d2",
        "outputId": "3eceb383-fc59-4b73-e8c7-5201d200e85e"
      },
      "execution_count": 7,
      "outputs": [
        {
          "output_type": "execute_result",
          "data": {
            "text/plain": [
              "tensor([[True, True, True],\n",
              "        [True, True, True],\n",
              "        [True, True, True]])"
            ]
          },
          "metadata": {},
          "execution_count": 7
        }
      ]
    },
    {
      "cell_type": "code",
      "source": [
        "torch.arange(32).reshape((8,2,2))"
      ],
      "metadata": {
        "colab": {
          "base_uri": "https://localhost:8080/"
        },
        "id": "lJyktmLrl9M9",
        "outputId": "25da9fc0-0cbe-48e0-b3da-bfbbf2b4af75"
      },
      "execution_count": 8,
      "outputs": [
        {
          "output_type": "execute_result",
          "data": {
            "text/plain": [
              "tensor([[[ 0,  1],\n",
              "         [ 2,  3]],\n",
              "\n",
              "        [[ 4,  5],\n",
              "         [ 6,  7]],\n",
              "\n",
              "        [[ 8,  9],\n",
              "         [10, 11]],\n",
              "\n",
              "        [[12, 13],\n",
              "         [14, 15]],\n",
              "\n",
              "        [[16, 17],\n",
              "         [18, 19]],\n",
              "\n",
              "        [[20, 21],\n",
              "         [22, 23]],\n",
              "\n",
              "        [[24, 25],\n",
              "         [26, 27]],\n",
              "\n",
              "        [[28, 29],\n",
              "         [30, 31]]])"
            ]
          },
          "metadata": {},
          "execution_count": 8
        }
      ]
    },
    {
      "cell_type": "markdown",
      "source": [
        "# Proprietà di base per i Tensori"
      ],
      "metadata": {
        "id": "s5CPtomSmfCH"
      }
    },
    {
      "cell_type": "code",
      "source": [
        "# L'idea è che operatori elementari mantegono la stessa struttura della matrice di partenza"
      ],
      "metadata": {
        "id": "t6MmzYnlmt4h"
      },
      "execution_count": 9,
      "outputs": []
    },
    {
      "cell_type": "code",
      "source": [
        "A = torch.arange(6, dtype=torch.float32).reshape(2,3)\n",
        "B = A.clone()\n",
        "A, A + B"
      ],
      "metadata": {
        "colab": {
          "base_uri": "https://localhost:8080/"
        },
        "id": "jzgtneWWmW8A",
        "outputId": "6a56cf49-cdb6-41c7-9b7f-b6a683423aee"
      },
      "execution_count": 10,
      "outputs": [
        {
          "output_type": "execute_result",
          "data": {
            "text/plain": [
              "(tensor([[0., 1., 2.],\n",
              "         [3., 4., 5.]]),\n",
              " tensor([[ 0.,  2.,  4.],\n",
              "         [ 6.,  8., 10.]]))"
            ]
          },
          "metadata": {},
          "execution_count": 10
        }
      ]
    },
    {
      "cell_type": "markdown",
      "source": [
        "# Reduction\n",
        "Per sapere la somma degli elementi del tensore e dunque $\\sum_{i = 1}^{n} x_i$\n",
        "è possibile usare la funzione\n",
        "\n",
        "```\n",
        ".sum()\n",
        "```\n",
        "Lo si può usare anche su matrici di qualsiasi shape().\n",
        "Nel caso della matrice $A$ che è $m x n$  corrisponde a $\\sum_{i = 1}^{m} \\sum_{j=1}^{n} a_{ij}$\n",
        "\n"
      ],
      "metadata": {
        "id": "hwsQyF1om1NI"
      }
    },
    {
      "cell_type": "code",
      "source": [
        "A.sum()"
      ],
      "metadata": {
        "colab": {
          "base_uri": "https://localhost:8080/"
        },
        "id": "r6uepgtdmyWG",
        "outputId": "661a0ea1-acd3-4647-a456-c15f9b3b92a6"
      },
      "execution_count": 11,
      "outputs": [
        {
          "output_type": "execute_result",
          "data": {
            "text/plain": [
              "tensor(15.)"
            ]
          },
          "metadata": {},
          "execution_count": 11
        }
      ]
    },
    {
      "cell_type": "code",
      "source": [
        "A"
      ],
      "metadata": {
        "colab": {
          "base_uri": "https://localhost:8080/"
        },
        "id": "gJAATaW3oc4M",
        "outputId": "20cda717-8f2c-4189-df34-928e80c9c4d1"
      },
      "execution_count": 12,
      "outputs": [
        {
          "output_type": "execute_result",
          "data": {
            "text/plain": [
              "tensor([[0., 1., 2.],\n",
              "        [3., 4., 5.]])"
            ]
          },
          "metadata": {},
          "execution_count": 12
        }
      ]
    },
    {
      "cell_type": "code",
      "source": [
        "# Si può sommare anche scegliendo l'asse di riferimento, 0 = colonne , 1 = righe\n",
        "K = A.sum(axis=0)"
      ],
      "metadata": {
        "id": "zfhBG-5DnJrW"
      },
      "execution_count": 13,
      "outputs": []
    },
    {
      "cell_type": "code",
      "source": [
        "A.shape, K.shape"
      ],
      "metadata": {
        "colab": {
          "base_uri": "https://localhost:8080/"
        },
        "id": "DDaDPX2coh--",
        "outputId": "0a0bfb3b-befa-4f13-9a95-76f40a114d28"
      },
      "execution_count": 14,
      "outputs": [
        {
          "output_type": "execute_result",
          "data": {
            "text/plain": [
              "(torch.Size([2, 3]), torch.Size([3]))"
            ]
          },
          "metadata": {},
          "execution_count": 14
        }
      ]
    },
    {
      "cell_type": "code",
      "source": [
        "R = A.sum(axis=1)\n",
        "R, R.shape"
      ],
      "metadata": {
        "colab": {
          "base_uri": "https://localhost:8080/"
        },
        "id": "AAcjItf8or6-",
        "outputId": "c2478a47-303c-4e53-ec95-169d93ab89d8"
      },
      "execution_count": 15,
      "outputs": [
        {
          "output_type": "execute_result",
          "data": {
            "text/plain": [
              "(tensor([ 3., 12.]), torch.Size([2]))"
            ]
          },
          "metadata": {},
          "execution_count": 15
        }
      ]
    },
    {
      "cell_type": "code",
      "source": [
        "# Questo produce la somma di tutti gli elementi e di conseguenza uno scalare\n",
        "A.sum(axis=[0,1]) == A.sum()"
      ],
      "metadata": {
        "colab": {
          "base_uri": "https://localhost:8080/"
        },
        "id": "NXvLd3nCox-8",
        "outputId": "5c610e28-d6a0-4e88-dd3a-1b0a2dbafa9c"
      },
      "execution_count": 16,
      "outputs": [
        {
          "output_type": "execute_result",
          "data": {
            "text/plain": [
              "tensor(True)"
            ]
          },
          "metadata": {},
          "execution_count": 16
        }
      ]
    },
    {
      "cell_type": "markdown",
      "source": [
        "Si possono applicare anche operatori per la media usando **.mean()**\n",
        "e si può specificare anche l'asse di riferimento con **mean(axis=0)**"
      ],
      "metadata": {
        "id": "dzAEvw6to7Xf"
      }
    },
    {
      "cell_type": "code",
      "source": [
        "A.mean()"
      ],
      "metadata": {
        "colab": {
          "base_uri": "https://localhost:8080/"
        },
        "id": "DKz8NTLbpSBR",
        "outputId": "7f01fad3-d153-4abd-f642-a7778cae8e69"
      },
      "execution_count": 17,
      "outputs": [
        {
          "output_type": "execute_result",
          "data": {
            "text/plain": [
              "tensor(2.5000)"
            ]
          },
          "metadata": {},
          "execution_count": 17
        }
      ]
    },
    {
      "cell_type": "markdown",
      "source": [
        "# Non Reduction Sum\n",
        "Si vuole mantenere la dimensione originaria durante queste operazioni dunque si può specificare attraverso il parametro keepdims"
      ],
      "metadata": {
        "id": "Bi55Qvu2pekS"
      }
    },
    {
      "cell_type": "code",
      "source": [
        "A"
      ],
      "metadata": {
        "colab": {
          "base_uri": "https://localhost:8080/"
        },
        "id": "-A5tl1_qpXQv",
        "outputId": "53705c04-6ee2-4cbc-e344-6d7d96033c52"
      },
      "execution_count": 18,
      "outputs": [
        {
          "output_type": "execute_result",
          "data": {
            "text/plain": [
              "tensor([[0., 1., 2.],\n",
              "        [3., 4., 5.]])"
            ]
          },
          "metadata": {},
          "execution_count": 18
        }
      ]
    },
    {
      "cell_type": "code",
      "source": [
        "A.shape"
      ],
      "metadata": {
        "colab": {
          "base_uri": "https://localhost:8080/"
        },
        "id": "DWKMfinIpoL-",
        "outputId": "3782d1ef-62ec-4f9c-ddad-1b007a660d71"
      },
      "execution_count": 19,
      "outputs": [
        {
          "output_type": "execute_result",
          "data": {
            "text/plain": [
              "torch.Size([2, 3])"
            ]
          },
          "metadata": {},
          "execution_count": 19
        }
      ]
    },
    {
      "cell_type": "code",
      "source": [
        "# Facendo la somma si può notare dalla shape che è single-dimension\n",
        "A.sum(axis = 1), A.sum(axis = 1).shape"
      ],
      "metadata": {
        "colab": {
          "base_uri": "https://localhost:8080/"
        },
        "id": "LbLe_RB3pbVf",
        "outputId": "c9bc5c72-b9f7-4d8a-9fca-e7e9eb02ee59"
      },
      "execution_count": 20,
      "outputs": [
        {
          "output_type": "execute_result",
          "data": {
            "text/plain": [
              "(tensor([ 3., 12.]), torch.Size([2]))"
            ]
          },
          "metadata": {},
          "execution_count": 20
        }
      ]
    },
    {
      "cell_type": "code",
      "source": [
        "# Cosi facendo invece resta una matrice bi-dimension 1 x 3\n",
        "sum_A = A.sum(axis=1, keepdims=True)\n",
        "sum_A, sum_A.shape"
      ],
      "metadata": {
        "colab": {
          "base_uri": "https://localhost:8080/"
        },
        "id": "50ABfafppUVp",
        "outputId": "715311b0-2c58-4d92-9fe8-2149916a9747"
      },
      "execution_count": 21,
      "outputs": [
        {
          "output_type": "execute_result",
          "data": {
            "text/plain": [
              "(tensor([[ 3.],\n",
              "         [12.]]),\n",
              " torch.Size([2, 1]))"
            ]
          },
          "metadata": {},
          "execution_count": 21
        }
      ]
    },
    {
      "cell_type": "code",
      "source": [
        "A / sum_A"
      ],
      "metadata": {
        "colab": {
          "base_uri": "https://localhost:8080/"
        },
        "id": "yY-nWkhIqv6f",
        "outputId": "a1b9679a-cb8e-4774-cb7a-1c71ccc626cb"
      },
      "execution_count": 22,
      "outputs": [
        {
          "output_type": "execute_result",
          "data": {
            "text/plain": [
              "tensor([[0.0000, 0.3333, 0.6667],\n",
              "        [0.2500, 0.3333, 0.4167]])"
            ]
          },
          "metadata": {},
          "execution_count": 22
        }
      ]
    },
    {
      "cell_type": "code",
      "source": [
        "# Cumulative Sum\n",
        "A.cumsum(axis=0)\n"
      ],
      "metadata": {
        "colab": {
          "base_uri": "https://localhost:8080/"
        },
        "id": "nXU_sqmzrBNm",
        "outputId": "d3fc3f33-2956-4d08-f7bf-b98b390f9ab1"
      },
      "execution_count": 23,
      "outputs": [
        {
          "output_type": "execute_result",
          "data": {
            "text/plain": [
              "tensor([[0., 1., 2.],\n",
              "        [3., 5., 7.]])"
            ]
          },
          "metadata": {},
          "execution_count": 23
        }
      ]
    },
    {
      "cell_type": "markdown",
      "source": [
        "# Moltiplicazioni\n",
        "È una delle operazioni piu importanti. Dati due vettori $ {a},b \\in \\mathbb{R}^d$ il prodotto è definito come $a^\\intercal b=\\sum_{i=1}^d a_ib_i$ .\n",
        "Lo vediamo come 1 x d * d x 1 = 1x1  ovvero uno scalare.\n",
        "\n"
      ],
      "metadata": {
        "id": "zzqHkOx6M7dJ"
      }
    },
    {
      "cell_type": "code",
      "source": [
        "x = torch.ones(3, dtype = torch.float32)\n",
        "y = torch.ones(3, dtype = torch.float32)\n",
        "x, y, torch.dot(x, y)"
      ],
      "metadata": {
        "colab": {
          "base_uri": "https://localhost:8080/"
        },
        "id": "_F7AZX4MNG1y",
        "outputId": "b66d9e83-972f-4dbe-b0ee-3df877b76c86"
      },
      "execution_count": 24,
      "outputs": [
        {
          "output_type": "execute_result",
          "data": {
            "text/plain": [
              "(tensor([1., 1., 1.]), tensor([1., 1., 1.]), tensor(3.))"
            ]
          },
          "metadata": {},
          "execution_count": 24
        }
      ]
    },
    {
      "cell_type": "code",
      "source": [
        "# si può anche fare nel seguente modo , moltiplicare per poi ottenere la somma\n",
        "torch.sum(x * y)"
      ],
      "metadata": {
        "colab": {
          "base_uri": "https://localhost:8080/"
        },
        "id": "9hDQO32oPXMA",
        "outputId": "fa494b6b-7987-42f3-fe82-fee6c09b6555"
      },
      "execution_count": 25,
      "outputs": [
        {
          "output_type": "execute_result",
          "data": {
            "text/plain": [
              "tensor(3.)"
            ]
          },
          "metadata": {},
          "execution_count": 25
        }
      ]
    },
    {
      "cell_type": "markdown",
      "source": [
        "# Matrix - vector multiplication\n",
        "Prendiamo una matrice $A$ e lo visualizziamo nella forma\n",
        "$A= \\begin{bmatrix}\n",
        "a_1^\\intercal \\\\\n",
        "a_2^\\intercal \\\\\n",
        "\\vdots \\\\\n",
        "a_m^\\intercal\n",
        "\\end{bmatrix}  $\n",
        "dove ogni $a_i^\\intercal \\in \\mathbb{R}^n$ e rappresenta l' $i-esimo$ vettore riga della matrice $A$.\n",
        "Se volessimo moltiplicare per il vettore $x$ allora si ottiene $Ax= \\begin{bmatrix}\n",
        "a_1^\\intercal x \\\\\n",
        "a_2^\\intercal x \\\\\n",
        "\\vdots \\\\\n",
        "a_m^\\intercal x\n",
        "\\end{bmatrix} $\n",
        "\n"
      ],
      "metadata": {
        "id": "R4xPfkjiQLPe"
      }
    },
    {
      "cell_type": "code",
      "source": [
        "A"
      ],
      "metadata": {
        "colab": {
          "base_uri": "https://localhost:8080/"
        },
        "id": "2P3tPytGRlEH",
        "outputId": "69c5ba0e-78de-415d-b731-342240022823"
      },
      "execution_count": 26,
      "outputs": [
        {
          "output_type": "execute_result",
          "data": {
            "text/plain": [
              "tensor([[0., 1., 2.],\n",
              "        [3., 4., 5.]])"
            ]
          },
          "metadata": {},
          "execution_count": 26
        }
      ]
    },
    {
      "cell_type": "code",
      "source": [
        "x"
      ],
      "metadata": {
        "colab": {
          "base_uri": "https://localhost:8080/"
        },
        "id": "f5S3hrUBRmHu",
        "outputId": "8a511e3b-3b16-43ec-fd2b-a6cb98d111fc"
      },
      "execution_count": 27,
      "outputs": [
        {
          "output_type": "execute_result",
          "data": {
            "text/plain": [
              "tensor([1., 1., 1.])"
            ]
          },
          "metadata": {},
          "execution_count": 27
        }
      ]
    },
    {
      "cell_type": "markdown",
      "source": [
        "$Ax= \\begin{bmatrix}\n",
        "0 \\ 1 \\ 2 \\\\\n",
        "3 \\ 4 \\ 5\n",
        "\\end{bmatrix} \\cdot\n",
        "\\begin{bmatrix}\n",
        "1 \\\\\n",
        "1 \\\\\n",
        "1\n",
        "\\end{bmatrix} = \\begin{bmatrix}\n",
        "3 \\\\\n",
        "12\n",
        "\\end{bmatrix}\n",
        "$"
      ],
      "metadata": {
        "id": "Lo0Q4P-7S4DX"
      }
    },
    {
      "cell_type": "code",
      "source": [
        "# Si usa la funzione mv,  Python dispone di un operatore @ che può eseguire sia\n",
        "# prodotti matrice-vettore che matrice-matrice (a seconda dei suoi argomenti)\n",
        "A.shape, x.shape, torch.mv(A, x), A@x"
      ],
      "metadata": {
        "colab": {
          "base_uri": "https://localhost:8080/"
        },
        "id": "FF7IA5l3Reco",
        "outputId": "1bda3cae-4dc5-4ce6-a0ab-e12c96a6a48c"
      },
      "execution_count": 28,
      "outputs": [
        {
          "output_type": "execute_result",
          "data": {
            "text/plain": [
              "(torch.Size([2, 3]), torch.Size([3]), tensor([ 3., 12.]), tensor([ 3., 12.]))"
            ]
          },
          "metadata": {},
          "execution_count": 28
        }
      ]
    },
    {
      "cell_type": "code",
      "source": [
        "# Il funzionamento si applica semplicemente anche alle moltiplicazioni di matrici\n",
        "B = torch.ones(3, 4)\n",
        "torch.mm(A, B), A@B"
      ],
      "metadata": {
        "colab": {
          "base_uri": "https://localhost:8080/"
        },
        "id": "o_Tl6Ge1PfVt",
        "outputId": "ab79dbd1-60ef-4d09-c808-71d2d24836cc"
      },
      "execution_count": 29,
      "outputs": [
        {
          "output_type": "execute_result",
          "data": {
            "text/plain": [
              "(tensor([[ 3.,  3.,  3.,  3.],\n",
              "         [12., 12., 12., 12.]]),\n",
              " tensor([[ 3.,  3.,  3.,  3.],\n",
              "         [12., 12., 12., 12.]]))"
            ]
          },
          "metadata": {},
          "execution_count": 29
        }
      ]
    },
    {
      "cell_type": "markdown",
      "source": [
        "# Norme\n",
        "Informalmente ci dice quanto un vettore sia grande.\n",
        "Ad esempio la norma $l_2$ misura la *lunghezza euclidea* del vettore.\n",
        "Siamo interessati al modulo del vettore e non alla dimensionalità in questo caso.\n",
        "La norma si esprime cosi $\\lVert \\cdot \\rVert$ e mappa il vettore in uno scalare soddisfando 3 proprietà:\n",
        "- **Scala anche la norma , non solo il vettore moltiplicandolo per uno scalare**\n",
        "$$\\lVert \\alpha \\mathbf{x} \\rVert = | \\alpha | \\cdot \\lVert \\mathbf{x} \\rVert$$\n",
        "- **disuguaglianza triangolare**\n",
        "$$\\lVert \\mathbf{x} + \\mathbf{y} \\rVert \\leq \\lVert \\mathbf{x} \\rVert + \\lVert \\mathbf{y} \\rVert $$\n",
        "- **norma sempre positiva** $$\\lVert \\mathbf{x} \\rVert \\geq 0 \\text{ } \\forall \\mathbf{x} \\neq 0$$"
      ],
      "metadata": {
        "id": "Gg3gELVVfPUO"
      }
    },
    {
      "cell_type": "markdown",
      "source": [
        "La norma $l_2$ si esprime nel seguente modo:\n",
        "$$ \\lVert \\mathbf{x} \\rVert_{2} = \\sqrt{\\sum_{i=1}^n x_i^2} $$"
      ],
      "metadata": {
        "id": "SbR-NH3dhvAS"
      }
    },
    {
      "cell_type": "code",
      "source": [
        "u = torch.tensor([3.0, -4.0])\n",
        "torch.norm(u)"
      ],
      "metadata": {
        "colab": {
          "base_uri": "https://localhost:8080/"
        },
        "id": "lWjt1V9Hhrqy",
        "outputId": "1e00bdfa-95a1-49c1-d8ea-75303e4c92b8"
      },
      "execution_count": 30,
      "outputs": [
        {
          "output_type": "execute_result",
          "data": {
            "text/plain": [
              "tensor(5.)"
            ]
          },
          "metadata": {},
          "execution_count": 30
        }
      ]
    },
    {
      "cell_type": "markdown",
      "source": [
        "Anche la norma $l_1$ è comune e la misura associata è chiamata **distanza di Manhattan**. Per definizione, la norma somma i valori assoluti degli elementi di un vettore:\n",
        "$$  \\lVert \\mathbf{x} \\rVert_{1} = \\sum_{i=1}^n |x_i| $$\n",
        "È meno sensibile agli outliers rispetto alla norma $l_2$\n"
      ],
      "metadata": {
        "id": "AvfFW495iV-s"
      }
    },
    {
      "cell_type": "code",
      "source": [
        "torch.abs(u).sum()"
      ],
      "metadata": {
        "colab": {
          "base_uri": "https://localhost:8080/"
        },
        "id": "oXQGEx8_iKyl",
        "outputId": "e310a27c-69e1-4a2b-bb41-94d19f7f1b2a"
      },
      "execution_count": 31,
      "outputs": [
        {
          "output_type": "execute_result",
          "data": {
            "text/plain": [
              "tensor(7.)"
            ]
          },
          "metadata": {},
          "execution_count": 31
        }
      ]
    },
    {
      "cell_type": "markdown",
      "source": [
        "$l_1$ e $l_2$ sono delle norme specifiche prese dalla formula più generale:\n",
        "$$\\lVert \\mathbf{x} \\rVert = \\left( \\sum_{i=1}^{n} |x_i|^p\\right)^{1/p} $$"
      ],
      "metadata": {
        "id": "khGL--mAiytQ"
      }
    },
    {
      "cell_type": "markdown",
      "source": [
        "**Frobenius Norms**\n",
        "Si comporta come la norma $l_2$ per matrici.\n",
        "\n",
        "$$ \\lVert \\mathbf{X} \\rVert_{F} = \\sqrt{\\sum_{i=1}^m \\sum_{i=1}^n x_{ij}^2} $$"
      ],
      "metadata": {
        "id": "eMMtFHYTjimw"
      }
    }
  ]
}